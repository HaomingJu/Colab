{
  "cells": [
    {
      "cell_type": "markdown",
      "metadata": {
        "id": "view-in-github",
        "colab_type": "text"
      },
      "source": [
        "<a href=\"https://colab.research.google.com/github/HaomingJu/Colab/blob/main/boyou_320x160.ipynb\" target=\"_parent\"><img src=\"https://colab.research.google.com/assets/colab-badge.svg\" alt=\"Open In Colab\"/></a>"
      ]
    },
    {
      "cell_type": "markdown",
      "metadata": {
        "id": "FIzICjaph_Wy"
      },
      "source": [
        "<a align=\"center\" href=\"https://ultralytics.com/hub\" target=\"_blank\">\n",
        "<img width=\"1024\", src=\"https://github.com/ultralytics/assets/raw/main/im/ultralytics-hub.png\"></a>\n",
        "\n",
        "<div align=\"center\">\n",
        "\n",
        "[中文](https://docs.ultralytics.com/zh/hub/) | [한국어](https://docs.ultralytics.com/ko/hub/) | [日本語](https://docs.ultralytics.com/ja/hub/) | [Русский](https://docs.ultralytics.com/ru/hub/) | [Deutsch](https://docs.ultralytics.com/de/hub/) | [Français](https://docs.ultralytics.com/fr/hub/) | [Español](https://docs.ultralytics.com/es/hub/) | [Português](https://docs.ultralytics.com/pt/hub/) | [Türkçe](https://docs.ultralytics.com/tr/hub/) | [Tiếng Việt](https://docs.ultralytics.com/vi/hub/) | [العربية](https://docs.ultralytics.com/ar/hub/)\n",
        "\n",
        "  <a href=\"https://github.com/ultralytics/hub/actions/workflows/ci.yml\"><img src=\"https://github.com/ultralytics/hub/actions/workflows/ci.yml/badge.svg\" alt=\"CI CPU\"></a>\n",
        "  <a href=\"https://colab.research.google.com/github/ultralytics/hub/blob/main/hub.ipynb\"><img src=\"https://colab.research.google.com/assets/colab-badge.svg\" alt=\"Open In Colab\"></a>\n",
        "\n",
        "  <a href=\"https://ultralytics.com/discord\"><img alt=\"Discord\" src=\"https://img.shields.io/discord/1089800235347353640?logo=discord&logoColor=white&label=Discord&color=blue\"></a>\n",
        "  <a href=\"https://community.ultralytics.com\"><img alt=\"Ultralytics Forums\" src=\"https://img.shields.io/discourse/users?server=https%3A%2F%2Fcommunity.ultralytics.com&logo=discourse&label=Forums&color=blue\"></a>\n",
        "  <a href=\"https://reddit.com/r/ultralytics\"><img alt=\"Ultralytics Reddit\" src=\"https://img.shields.io/reddit/subreddit-subscribers/ultralytics?style=flat&logo=reddit&logoColor=white&label=Reddit&color=blue\"></a>\n",
        "\n",
        "Welcome to the [Ultralytics](https://ultralytics.com/) HUB notebook!\n",
        "\n",
        "This notebook allows you to train Ultralytics [YOLO](https://github.com/ultralytics/ultralytics) 🚀 models using [HUB](https://hub.ultralytics.com/). Please browse the HUB <a href=\"https://docs.ultralytics.com/hub/\">Docs</a> for details, raise an issue on <a href=\"https://github.com/ultralytics/hub/issues/new/choose\">GitHub</a> for support, and join our <a href=\"https://ultralytics.com/discord\">Discord</a> community for questions and discussions!\n",
        "</div>"
      ]
    },
    {
      "cell_type": "markdown",
      "metadata": {
        "id": "eRQ2ow94MiOv"
      },
      "source": [
        "# Step.1 安装环境"
      ]
    },
    {
      "cell_type": "code",
      "execution_count": null,
      "metadata": {
        "id": "FyDnXd-n4c7Y"
      },
      "outputs": [],
      "source": [
        "%pip install ultralytics\n",
        "from ultralytics import YOLO, checks, hub\n",
        "import torch\n",
        "\n",
        "checks()  # Verify system setup for Ultralytics training\n",
        "\n",
        "if torch.cuda.is_available():\n",
        "    gpu_count = torch.cuda.device_count()\n",
        "    print(f\"Available GPUs: {gpu_count}\")\n",
        "    for i in range(gpu_count):\n",
        "        print(f\"GPU ID: {i}, Name: {torch.cuda.get_device_name(i)}\")\n",
        "else:\n",
        "    print(\"No GPU available.\")\n"
      ]
    },
    {
      "cell_type": "markdown",
      "source": [
        "# Step.2 挂载Gooogle Driver"
      ],
      "metadata": {
        "id": "1vXf4gl1d6gP"
      }
    },
    {
      "cell_type": "code",
      "source": [
        "from google.colab import drive\n",
        "drive.mount('/content/drive')"
      ],
      "metadata": {
        "colab": {
          "base_uri": "https://localhost:8080/"
        },
        "id": "b4mr1SKbd-vr",
        "outputId": "3485ed34-2185-452a-d0a3-3e621a4fd0dd"
      },
      "execution_count": null,
      "outputs": [
        {
          "output_type": "stream",
          "name": "stdout",
          "text": [
            "Mounted at /content/drive\n"
          ]
        }
      ]
    },
    {
      "cell_type": "markdown",
      "metadata": {
        "id": "cQ9BwaAqxAm4"
      },
      "source": [
        "# Step.3 登录Ultralytics"
      ]
    },
    {
      "cell_type": "code",
      "execution_count": null,
      "metadata": {
        "id": "XSlZaJ9Iw_iZ",
        "colab": {
          "base_uri": "https://localhost:8080/"
        },
        "outputId": "9dd9f150-4241-4fa3-ca57-998e438df9fc"
      },
      "outputs": [
        {
          "output_type": "stream",
          "name": "stdout",
          "text": [
            "\u001b[31m\u001b[1mrequirements:\u001b[0m Ultralytics requirement ['hub-sdk>=0.0.12'] not found, attempting AutoUpdate...\n",
            "\n",
            "\u001b[31m\u001b[1mrequirements:\u001b[0m AutoUpdate success ✅ 0.7s\n",
            "WARNING ⚠️ \u001b[31m\u001b[1mrequirements:\u001b[0m \u001b[1mRestart runtime or rerun command for updates to take effect\u001b[0m\n",
            "\n",
            "\u001b[34m\u001b[1mUltralytics HUB: \u001b[0mNew authentication successful ✅\n"
          ]
        }
      ],
      "source": [
        "\n",
        "from google.colab import userdata\n",
        "api_key = userdata.get('UltralyticsTOKEN')\n",
        "# Login to HUB using your API key (https://hub.ultralytics.com/settings?tab=api+keys)\n",
        "ret_login = hub.login(api_key)\n",
        "if not ret_login:\n",
        "  print(\"Login Ultralytics failed.\")"
      ]
    },
    {
      "cell_type": "markdown",
      "source": [
        "# Step.4 博优"
      ],
      "metadata": {
        "id": "ho0ciQ2kpfGB"
      }
    },
    {
      "cell_type": "markdown",
      "source": [
        "## Step.4.1 数据准备"
      ],
      "metadata": {
        "id": "0YJ23ekkhBbu"
      }
    },
    {
      "cell_type": "code",
      "source": [
        "!unzip /content/drive/MyDrive/boyou_part2.zip"
      ],
      "metadata": {
        "collapsed": true,
        "id": "a3bSzN2OhFoB"
      },
      "execution_count": null,
      "outputs": []
    },
    {
      "cell_type": "markdown",
      "source": [
        "## Step.4.2 训练"
      ],
      "metadata": {
        "id": "5AdryP4wfIkc"
      }
    },
    {
      "cell_type": "code",
      "source": [
        "\n",
        "model = YOLO('yolo11l')\n",
        "\n",
        "results = model.train(\n",
        "    data='/content/boyou_part2/detect/detect.yaml',  # 数据集配置\n",
        "    imgsz=320,                 # (高度x宽度) 注意顺序\n",
        "    epochs=100,\n",
        "    device=0,\n",
        "    project='/content/drive/MyDrive/boyou_320x160/runs/train',\n",
        "    name='boyou_320x160',\n",
        "    exist_ok=True,                  # 关键参数：启用HUB同步\n",
        ")"
      ],
      "metadata": {
        "collapsed": true,
        "id": "8lB6Djh7fWAb"
      },
      "execution_count": null,
      "outputs": []
    },
    {
      "cell_type": "markdown",
      "source": [
        "## Step.4.3 模型导出\n",
        "\n"
      ],
      "metadata": {
        "id": "XYxEdQKKjLzY"
      }
    },
    {
      "cell_type": "markdown",
      "source": [],
      "metadata": {
        "id": "cdOoAG1rOECV"
      }
    },
    {
      "cell_type": "markdown",
      "source": [
        "## Step.4.4 加载输出信息"
      ],
      "metadata": {
        "id": "ttiYyPWC0yE2"
      }
    },
    {
      "cell_type": "markdown",
      "source": [
        "# Step.5 聚商荟\n"
      ],
      "metadata": {
        "id": "JwR5w0vPqjTP"
      }
    },
    {
      "cell_type": "markdown",
      "source": [
        "## Step.5.1 数据准备"
      ],
      "metadata": {
        "id": "faISybB_1UFX"
      }
    },
    {
      "cell_type": "code",
      "source": [
        "!unzip /content/drive/MyDrive/data/聚商荟数据/num_1.zip"
      ],
      "metadata": {
        "id": "8o_Nve1YVTqi"
      },
      "execution_count": null,
      "outputs": []
    },
    {
      "cell_type": "code",
      "source": [],
      "metadata": {
        "id": "fOexBMebXnrt"
      },
      "execution_count": null,
      "outputs": []
    },
    {
      "cell_type": "markdown",
      "source": [
        "## Step.5.3 模型导出\n",
        "\n",
        "参考: https://docs.ultralytics.com/zh/integrations/tf-savedmodel/#usage"
      ],
      "metadata": {
        "id": "0ICjOJfe1OJV"
      }
    },
    {
      "cell_type": "code",
      "source": [
        "model_pt_jushanghui = YOLO(\"/content/drive/MyDrive/model/聚商荟/jushanghui_yolo11l_360x360_v1.pt\")\n",
        "model_pt_jushanghui.export(\n",
        "    format=\"saved_model\",\n",
        "    data=\"/content/num_1/detect.yaml\",\n",
        "    imgsz=320,\n",
        "    int8=True,\n",
        "    nms=True,\n",
        "    device=0)\n",
        "\n",
        "\n"
      ],
      "metadata": {
        "colab": {
          "base_uri": "https://localhost:8080/",
          "height": 1000
        },
        "id": "ICcNFQPCVi1r",
        "outputId": "b41e3c82-dece-4a2e-ac60-4327120437d1"
      },
      "execution_count": null,
      "outputs": [
        {
          "output_type": "stream",
          "name": "stdout",
          "text": [
            "Ultralytics 8.3.213 🚀 Python-3.12.12 torch-2.8.0+cu126 CUDA:0 (Tesla T4, 15095MiB)\n",
            "YOLO11l summary (fused): 190 layers, 25,287,793 parameters, 0 gradients, 86.6 GFLOPs\n",
            "\n",
            "\u001b[34m\u001b[1mPyTorch:\u001b[0m starting from '/content/drive/MyDrive/model/聚商荟/jushanghui_yolo11l_360x360_v1.pt' with input shape (1, 3, 320, 320) BCHW and output shape(s) (1, 300, 6) (48.8 MB)\n",
            "\u001b[31m\u001b[1mrequirements:\u001b[0m Ultralytics requirements ['sng4onnx>=1.0.1', 'onnx_graphsurgeon>=0.3.26', 'ai-edge-litert>=1.2.0', 'onnx2tf>=1.26.3'] not found, attempting AutoUpdate...\n",
            "\n",
            "\u001b[31m\u001b[1mrequirements:\u001b[0m AutoUpdate success ✅ 3.0s\n",
            "WARNING ⚠️ \u001b[31m\u001b[1mrequirements:\u001b[0m \u001b[1mRestart runtime or rerun command for updates to take effect\u001b[0m\n",
            "\n",
            "\n",
            "\u001b[34m\u001b[1mTensorFlow SavedModel:\u001b[0m starting export with tensorflow 2.19.0...\n",
            "\n",
            "\u001b[34m\u001b[1mONNX:\u001b[0m starting export with onnx 1.19.1 opset 20...\n",
            "\u001b[34m\u001b[1mONNX:\u001b[0m slimming with onnxslim 0.1.71...\n",
            "\u001b[34m\u001b[1mONNX:\u001b[0m export success ✅ 3.9s, saved as '/content/drive/MyDrive/model/聚商荟/jushanghui_yolo11l_360x360_v1.onnx' (96.7 MB)\n",
            "\u001b[34m\u001b[1mTensorFlow SavedModel:\u001b[0m collecting INT8 calibration images from 'data=/content/num_1/detect.yaml'\n",
            "Fast image access ✅ (ping: 0.0±0.0 ms, read: 2121.3±628.3 MB/s, size: 54.2 KB)\n",
            "\u001b[KScanning /content/num_1/labels/val... 113 images, 0 backgrounds, 0 corrupt: 100% ━━━━━━━━━━━━ 113/113 2.8Kit/s 0.0s\n",
            "New cache created: /content/num_1/labels/val.cache\n",
            "WARNING ⚠️ \u001b[34m\u001b[1mTensorFlow SavedModel:\u001b[0m >300 images recommended for INT8 calibration, found 113 images.\n",
            "\u001b[34m\u001b[1mTensorFlow SavedModel:\u001b[0m starting TFLite export with onnx2tf 1.28.2...\n",
            "Saved artifact at '/content/drive/MyDrive/model/聚商荟/jushanghui_yolo11l_360x360_v1_saved_model'. The following endpoints are available:\n",
            "\n",
            "* Endpoint 'serving_default'\n",
            "  inputs_0 (POSITIONAL_ONLY): TensorSpec(shape=(1, 320, 320, 3), dtype=tf.float32, name='images')\n",
            "Output Type:\n",
            "  TensorSpec(shape=(1, 300, 6), dtype=tf.float32, name=None)\n",
            "Captures:\n",
            "  134178611189264: TensorSpec(shape=(4, 2), dtype=tf.int32, name=None)\n",
            "  134178611189840: TensorSpec(shape=(3, 3, 3, 64), dtype=tf.float32, name=None)\n",
            "  134178611190032: TensorSpec(shape=(64,), dtype=tf.float32, name=None)\n",
            "  134178611194256: TensorSpec(shape=(4, 2), dtype=tf.int32, name=None)\n",
            "  134178611194640: TensorSpec(shape=(3, 3, 64, 128), dtype=tf.float32, name=None)\n",
            "  134178611191568: TensorSpec(shape=(128,), dtype=tf.float32, name=None)\n",
            "  134178611192720: TensorSpec(shape=(1, 1, 128, 128), dtype=tf.float32, name=None)\n",
            "  134178611194832: TensorSpec(shape=(128,), dtype=tf.float32, name=None)\n",
            "  134178611195984: TensorSpec(shape=(4,), dtype=tf.int64, name=None)\n",
            "  134178611195600: TensorSpec(shape=(4,), dtype=tf.int64, name=None)\n",
            "  134178611197904: TensorSpec(shape=(1, 1, 64, 32), dtype=tf.float32, name=None)\n",
            "  134178611198480: TensorSpec(shape=(32,), dtype=tf.float32, name=None)\n",
            "  134178611197520: TensorSpec(shape=(3, 3, 32, 32), dtype=tf.float32, name=None)\n",
            "  134178611199248: TensorSpec(shape=(32,), dtype=tf.float32, name=None)\n",
            "  134178611198864: TensorSpec(shape=(3, 3, 32, 32), dtype=tf.float32, name=None)\n",
            "  134178611198672: TensorSpec(shape=(32,), dtype=tf.float32, name=None)\n",
            "  134178611197328: TensorSpec(shape=(3, 3, 32, 32), dtype=tf.float32, name=None)\n",
            "  134178611196368: TensorSpec(shape=(32,), dtype=tf.float32, name=None)\n",
            "  134178611199056: TensorSpec(shape=(3, 3, 32, 32), dtype=tf.float32, name=None)\n",
            "  134178611195024: TensorSpec(shape=(1, 1, 64, 32), dtype=tf.float32, name=None)\n",
            "  134178611199440: TensorSpec(shape=(32,), dtype=tf.float32, name=None)\n",
            "  134178611195216: TensorSpec(shape=(32,), dtype=tf.float32, name=None)\n",
            "  134178611198096: TensorSpec(shape=(1, 1, 64, 64), dtype=tf.float32, name=None)\n",
            "  134178611199824: TensorSpec(shape=(64,), dtype=tf.float32, name=None)\n",
            "  134178215837776: TensorSpec(shape=(1, 1, 64, 32), dtype=tf.float32, name=None)\n",
            "  134178215838160: TensorSpec(shape=(32,), dtype=tf.float32, name=None)\n",
            "  134178215838736: TensorSpec(shape=(3, 3, 32, 32), dtype=tf.float32, name=None)\n",
            "  134178215839120: TensorSpec(shape=(32,), dtype=tf.float32, name=None)\n",
            "  134178215838928: TensorSpec(shape=(3, 3, 32, 32), dtype=tf.float32, name=None)\n",
            "  134178215839312: TensorSpec(shape=(32,), dtype=tf.float32, name=None)\n",
            "  134178215839504: TensorSpec(shape=(3, 3, 32, 32), dtype=tf.float32, name=None)\n",
            "  134178215839888: TensorSpec(shape=(32,), dtype=tf.float32, name=None)\n",
            "  134178215837968: TensorSpec(shape=(3, 3, 32, 32), dtype=tf.float32, name=None)\n",
            "  134178215838544: TensorSpec(shape=(1, 1, 64, 32), dtype=tf.float32, name=None)\n",
            "  134178215840080: TensorSpec(shape=(32,), dtype=tf.float32, name=None)\n",
            "  134178215838352: TensorSpec(shape=(32,), dtype=tf.float32, name=None)\n",
            "  134178215840656: TensorSpec(shape=(1, 1, 64, 64), dtype=tf.float32, name=None)\n",
            "  134178215839696: TensorSpec(shape=(64,), dtype=tf.float32, name=None)\n",
            "  134178611196560: TensorSpec(shape=(4,), dtype=tf.int64, name=None)\n",
            "  134178611196176: TensorSpec(shape=(4,), dtype=tf.int64, name=None)\n",
            "  134178215840848: TensorSpec(shape=(1, 1, 256, 256), dtype=tf.float32, name=None)\n",
            "  134178215841040: TensorSpec(shape=(256,), dtype=tf.float32, name=None)\n",
            "  134178215841232: TensorSpec(shape=(4, 2), dtype=tf.int32, name=None)\n",
            "  134178215840272: TensorSpec(shape=(3, 3, 256, 256), dtype=tf.float32, name=None)\n",
            "  134178215840464: TensorSpec(shape=(256,), dtype=tf.float32, name=None)\n",
            "  134178215841616: TensorSpec(shape=(1, 1, 256, 256), dtype=tf.float32, name=None)\n",
            "  134178215841808: TensorSpec(shape=(256,), dtype=tf.float32, name=None)\n",
            "  134178215842384: TensorSpec(shape=(4,), dtype=tf.int64, name=None)\n",
            "  134178215842192: TensorSpec(shape=(4,), dtype=tf.int64, name=None)\n",
            "  134178215844304: TensorSpec(shape=(1, 1, 128, 64), dtype=tf.float32, name=None)\n",
            "  134178215844496: TensorSpec(shape=(64,), dtype=tf.float32, name=None)\n",
            "  134178215843728: TensorSpec(shape=(3, 3, 64, 64), dtype=tf.float32, name=None)\n",
            "  134178215844688: TensorSpec(shape=(64,), dtype=tf.float32, name=None)\n",
            "  134178215844880: TensorSpec(shape=(3, 3, 64, 64), dtype=tf.float32, name=None)\n",
            "  134178215845072: TensorSpec(shape=(64,), dtype=tf.float32, name=None)\n",
            "  134178215843920: TensorSpec(shape=(3, 3, 64, 64), dtype=tf.float32, name=None)\n",
            "  134178215845456: TensorSpec(shape=(64,), dtype=tf.float32, name=None)\n",
            "  134178215843344: TensorSpec(shape=(3, 3, 64, 64), dtype=tf.float32, name=None)\n",
            "  134178215841424: TensorSpec(shape=(1, 1, 128, 64), dtype=tf.float32, name=None)\n",
            "  134178215845648: TensorSpec(shape=(64,), dtype=tf.float32, name=None)\n",
            "  134178215842000: TensorSpec(shape=(64,), dtype=tf.float32, name=None)\n",
            "  134178215846224: TensorSpec(shape=(1, 1, 128, 128), dtype=tf.float32, name=None)\n",
            "  134178215845264: TensorSpec(shape=(128,), dtype=tf.float32, name=None)\n",
            "  134178215845840: TensorSpec(shape=(1, 1, 128, 64), dtype=tf.float32, name=None)\n",
            "  134178215846416: TensorSpec(shape=(64,), dtype=tf.float32, name=None)\n",
            "  134178215846992: TensorSpec(shape=(3, 3, 64, 64), dtype=tf.float32, name=None)\n",
            "  134178215847376: TensorSpec(shape=(64,), dtype=tf.float32, name=None)\n",
            "  134178215847184: TensorSpec(shape=(3, 3, 64, 64), dtype=tf.float32, name=None)\n",
            "  134178215847568: TensorSpec(shape=(64,), dtype=tf.float32, name=None)\n",
            "  134178215847760: TensorSpec(shape=(3, 3, 64, 64), dtype=tf.float32, name=None)\n",
            "  134178215848144: TensorSpec(shape=(64,), dtype=tf.float32, name=None)\n",
            "  134178215846032: TensorSpec(shape=(3, 3, 64, 64), dtype=tf.float32, name=None)\n",
            "  134178215846800: TensorSpec(shape=(1, 1, 128, 64), dtype=tf.float32, name=None)\n",
            "  134178215848336: TensorSpec(shape=(64,), dtype=tf.float32, name=None)\n",
            "  134178215846608: TensorSpec(shape=(64,), dtype=tf.float32, name=None)\n",
            "  134178215848912: TensorSpec(shape=(1, 1, 128, 128), dtype=tf.float32, name=None)\n",
            "  134178215847952: TensorSpec(shape=(128,), dtype=tf.float32, name=None)\n",
            "  134178215842576: TensorSpec(shape=(4,), dtype=tf.int64, name=None)\n",
            "  134178215842768: TensorSpec(shape=(4,), dtype=tf.int64, name=None)\n",
            "  134178215849104: TensorSpec(shape=(1, 1, 512, 512), dtype=tf.float32, name=None)\n",
            "  134178215849296: TensorSpec(shape=(512,), dtype=tf.float32, name=None)\n",
            "  134178215849488: TensorSpec(shape=(4, 2), dtype=tf.int32, name=None)\n",
            "  134178215848528: TensorSpec(shape=(3, 3, 512, 512), dtype=tf.float32, name=None)\n",
            "  134178215848720: TensorSpec(shape=(512,), dtype=tf.float32, name=None)\n",
            "  134178215849872: TensorSpec(shape=(1, 1, 512, 512), dtype=tf.float32, name=None)\n",
            "  134178215850064: TensorSpec(shape=(512,), dtype=tf.float32, name=None)\n",
            "  134178215850640: TensorSpec(shape=(4,), dtype=tf.int64, name=None)\n",
            "  134178215850448: TensorSpec(shape=(4,), dtype=tf.int64, name=None)\n",
            "  134178215852560: TensorSpec(shape=(1, 1, 256, 128), dtype=tf.float32, name=None)\n",
            "  134178215852752: TensorSpec(shape=(128,), dtype=tf.float32, name=None)\n",
            "  134178215851984: TensorSpec(shape=(3, 3, 128, 128), dtype=tf.float32, name=None)\n",
            "  134178215852944: TensorSpec(shape=(128,), dtype=tf.float32, name=None)\n",
            "  134178215853136: TensorSpec(shape=(3, 3, 128, 128), dtype=tf.float32, name=None)\n",
            "  134178215853328: TensorSpec(shape=(128,), dtype=tf.float32, name=None)\n",
            "  134178215852176: TensorSpec(shape=(3, 3, 128, 128), dtype=tf.float32, name=None)\n",
            "  134178215853712: TensorSpec(shape=(128,), dtype=tf.float32, name=None)\n",
            "  134178215851600: TensorSpec(shape=(3, 3, 128, 128), dtype=tf.float32, name=None)\n",
            "  134178215849680: TensorSpec(shape=(1, 1, 256, 128), dtype=tf.float32, name=None)\n",
            "  134178215853520: TensorSpec(shape=(128,), dtype=tf.float32, name=None)\n",
            "  134178215850256: TensorSpec(shape=(128,), dtype=tf.float32, name=None)\n",
            "  134178215853904: TensorSpec(shape=(1, 1, 256, 256), dtype=tf.float32, name=None)\n",
            "  134178205794768: TensorSpec(shape=(256,), dtype=tf.float32, name=None)\n",
            "  134178205794384: TensorSpec(shape=(1, 1, 256, 128), dtype=tf.float32, name=None)\n",
            "  134178205794960: TensorSpec(shape=(128,), dtype=tf.float32, name=None)\n",
            "  134178205795536: TensorSpec(shape=(3, 3, 128, 128), dtype=tf.float32, name=None)\n",
            "  134178205795920: TensorSpec(shape=(128,), dtype=tf.float32, name=None)\n",
            "  134178205795728: TensorSpec(shape=(3, 3, 128, 128), dtype=tf.float32, name=None)\n",
            "  134178205796112: TensorSpec(shape=(128,), dtype=tf.float32, name=None)\n",
            "  134178205796304: TensorSpec(shape=(3, 3, 128, 128), dtype=tf.float32, name=None)\n",
            "  134178205796688: TensorSpec(shape=(128,), dtype=tf.float32, name=None)\n",
            "  134178205794576: TensorSpec(shape=(3, 3, 128, 128), dtype=tf.float32, name=None)\n",
            "  134178205795344: TensorSpec(shape=(1, 1, 256, 128), dtype=tf.float32, name=None)\n",
            "  134178205796880: TensorSpec(shape=(128,), dtype=tf.float32, name=None)\n",
            "  134178205795152: TensorSpec(shape=(128,), dtype=tf.float32, name=None)\n",
            "  134178205797456: TensorSpec(shape=(1, 1, 256, 256), dtype=tf.float32, name=None)\n",
            "  134178205796496: TensorSpec(shape=(256,), dtype=tf.float32, name=None)\n",
            "  134178215850832: TensorSpec(shape=(4,), dtype=tf.int64, name=None)\n",
            "  134178215851024: TensorSpec(shape=(4,), dtype=tf.int64, name=None)\n",
            "  134178205797648: TensorSpec(shape=(1, 1, 1024, 512), dtype=tf.float32, name=None)\n",
            "  134178205797840: TensorSpec(shape=(512,), dtype=tf.float32, name=None)\n",
            "  134178205798032: TensorSpec(shape=(4, 2), dtype=tf.int32, name=None)\n",
            "  134178205797072: TensorSpec(shape=(3, 3, 512, 512), dtype=tf.float32, name=None)\n",
            "  134178205797264: TensorSpec(shape=(512,), dtype=tf.float32, name=None)\n",
            "  134178205798416: TensorSpec(shape=(1, 1, 512, 512), dtype=tf.float32, name=None)\n",
            "  134178205798608: TensorSpec(shape=(512,), dtype=tf.float32, name=None)\n",
            "  134178205799184: TensorSpec(shape=(4,), dtype=tf.int64, name=None)\n",
            "  134178205798992: TensorSpec(shape=(4,), dtype=tf.int64, name=None)\n",
            "  134178205801104: TensorSpec(shape=(1, 1, 256, 128), dtype=tf.float32, name=None)\n",
            "  134178205801296: TensorSpec(shape=(128,), dtype=tf.float32, name=None)\n",
            "  134178205800528: TensorSpec(shape=(3, 3, 128, 128), dtype=tf.float32, name=None)\n",
            "  134178205801488: TensorSpec(shape=(128,), dtype=tf.float32, name=None)\n",
            "  134178205801680: TensorSpec(shape=(3, 3, 128, 128), dtype=tf.float32, name=None)\n",
            "  134178205801872: TensorSpec(shape=(128,), dtype=tf.float32, name=None)\n",
            "  134178205800720: TensorSpec(shape=(3, 3, 128, 128), dtype=tf.float32, name=None)\n",
            "  134178205802256: TensorSpec(shape=(128,), dtype=tf.float32, name=None)\n",
            "  134178205800144: TensorSpec(shape=(3, 3, 128, 128), dtype=tf.float32, name=None)\n",
            "  134178205798224: TensorSpec(shape=(1, 1, 256, 128), dtype=tf.float32, name=None)\n",
            "  134178205802448: TensorSpec(shape=(128,), dtype=tf.float32, name=None)\n",
            "  134178205798800: TensorSpec(shape=(128,), dtype=tf.float32, name=None)\n",
            "  134178205803024: TensorSpec(shape=(1, 1, 256, 256), dtype=tf.float32, name=None)\n",
            "  134178205802064: TensorSpec(shape=(256,), dtype=tf.float32, name=None)\n",
            "  134178205802640: TensorSpec(shape=(1, 1, 256, 128), dtype=tf.float32, name=None)\n",
            "  134178205803216: TensorSpec(shape=(128,), dtype=tf.float32, name=None)\n",
            "  134178205803792: TensorSpec(shape=(3, 3, 128, 128), dtype=tf.float32, name=None)\n",
            "  134178205804176: TensorSpec(shape=(128,), dtype=tf.float32, name=None)\n",
            "  134178205803984: TensorSpec(shape=(3, 3, 128, 128), dtype=tf.float32, name=None)\n",
            "  134178205804368: TensorSpec(shape=(128,), dtype=tf.float32, name=None)\n",
            "  134178205804560: TensorSpec(shape=(3, 3, 128, 128), dtype=tf.float32, name=None)\n",
            "  134178205804944: TensorSpec(shape=(128,), dtype=tf.float32, name=None)\n",
            "  134178205802832: TensorSpec(shape=(3, 3, 128, 128), dtype=tf.float32, name=None)\n",
            "  134178205803600: TensorSpec(shape=(1, 1, 256, 128), dtype=tf.float32, name=None)\n",
            "  134178205805136: TensorSpec(shape=(128,), dtype=tf.float32, name=None)\n",
            "  134178205803408: TensorSpec(shape=(128,), dtype=tf.float32, name=None)\n",
            "  134178205805712: TensorSpec(shape=(1, 1, 256, 256), dtype=tf.float32, name=None)\n",
            "  134178205804752: TensorSpec(shape=(256,), dtype=tf.float32, name=None)\n",
            "  134178205799376: TensorSpec(shape=(4,), dtype=tf.int64, name=None)\n",
            "  134178205799568: TensorSpec(shape=(4,), dtype=tf.int64, name=None)\n",
            "  134178205805904: TensorSpec(shape=(1, 1, 1024, 512), dtype=tf.float32, name=None)\n",
            "  134178205806096: TensorSpec(shape=(512,), dtype=tf.float32, name=None)\n",
            "  134178205805328: TensorSpec(shape=(1, 1, 512, 256), dtype=tf.float32, name=None)\n",
            "  134178205806288: TensorSpec(shape=(256,), dtype=tf.float32, name=None)\n",
            "  134178205806480: TensorSpec(shape=(1, 1, 1024, 512), dtype=tf.float32, name=None)\n",
            "  134178205805520: TensorSpec(shape=(512,), dtype=tf.float32, name=None)\n",
            "  134178205806864: TensorSpec(shape=(1, 1, 512, 512), dtype=tf.float32, name=None)\n",
            "  134178205807440: TensorSpec(shape=(512,), dtype=tf.float32, name=None)\n",
            "  134178205807248: TensorSpec(shape=(1, 1, 256, 512), dtype=tf.float32, name=None)\n",
            "  134178205807824: TensorSpec(shape=(512,), dtype=tf.float32, name=None)\n",
            "  134178196848912: TensorSpec(shape=(), dtype=tf.resource, name=None)\n",
            "  134178205810320: TensorSpec(shape=(256,), dtype=tf.float32, name=None)\n",
            "  134178205808784: TensorSpec(shape=(1, 1, 256, 256), dtype=tf.float32, name=None)\n",
            "  134178196849680: TensorSpec(shape=(256,), dtype=tf.float32, name=None)\n",
            "  134178196849872: TensorSpec(shape=(1, 1, 256, 512), dtype=tf.float32, name=None)\n",
            "  134178196850064: TensorSpec(shape=(512,), dtype=tf.float32, name=None)\n",
            "  134178196851024: TensorSpec(shape=(1, 1, 512, 256), dtype=tf.float32, name=None)\n",
            "  134178196849488: TensorSpec(shape=(256,), dtype=tf.float32, name=None)\n",
            "  134178196851408: TensorSpec(shape=(1, 1, 256, 512), dtype=tf.float32, name=None)\n",
            "  134178196850256: TensorSpec(shape=(512,), dtype=tf.float32, name=None)\n",
            "  134178196851984: TensorSpec(shape=(), dtype=tf.resource, name=None)\n",
            "  134178196852368: TensorSpec(shape=(256,), dtype=tf.float32, name=None)\n",
            "  134178196848720: TensorSpec(shape=(1, 1, 256, 256), dtype=tf.float32, name=None)\n",
            "  134178196852176: TensorSpec(shape=(256,), dtype=tf.float32, name=None)\n",
            "  134178196850640: TensorSpec(shape=(1, 1, 256, 512), dtype=tf.float32, name=None)\n",
            "  134178196850832: TensorSpec(shape=(512,), dtype=tf.float32, name=None)\n",
            "  134178196852944: TensorSpec(shape=(1, 1, 512, 256), dtype=tf.float32, name=None)\n",
            "  134178196853520: TensorSpec(shape=(256,), dtype=tf.float32, name=None)\n",
            "  134178196851216: TensorSpec(shape=(1, 1, 512, 512), dtype=tf.float32, name=None)\n",
            "  134178196852752: TensorSpec(shape=(512,), dtype=tf.float32, name=None)\n",
            "  134178196851600: TensorSpec(shape=(1, 1, 1024, 512), dtype=tf.float32, name=None)\n",
            "  134178196850448: TensorSpec(shape=(512,), dtype=tf.float32, name=None)\n",
            "  134178196853712: TensorSpec(shape=(4,), dtype=tf.int64, name=None)\n",
            "  134178196853904: TensorSpec(shape=(4,), dtype=tf.int64, name=None)\n",
            "  134178196855056: TensorSpec(shape=(1, 1, 256, 128), dtype=tf.float32, name=None)\n",
            "  134178196855248: TensorSpec(shape=(128,), dtype=tf.float32, name=None)\n",
            "  134178196854864: TensorSpec(shape=(3, 3, 128, 128), dtype=tf.float32, name=None)\n",
            "  134178196855824: TensorSpec(shape=(128,), dtype=tf.float32, name=None)\n",
            "  134178196856016: TensorSpec(shape=(3, 3, 128, 128), dtype=tf.float32, name=None)\n",
            "  134178196856208: TensorSpec(shape=(128,), dtype=tf.float32, name=None)\n",
            "  134178196854672: TensorSpec(shape=(3, 3, 128, 128), dtype=tf.float32, name=None)\n",
            "  134178196856592: TensorSpec(shape=(128,), dtype=tf.float32, name=None)\n",
            "  134178196854480: TensorSpec(shape=(3, 3, 128, 128), dtype=tf.float32, name=None)\n",
            "  134178196853328: TensorSpec(shape=(1, 1, 256, 128), dtype=tf.float32, name=None)\n",
            "  134178196856784: TensorSpec(shape=(128,), dtype=tf.float32, name=None)\n",
            "  134178196853136: TensorSpec(shape=(128,), dtype=tf.float32, name=None)\n",
            "  134178196857360: TensorSpec(shape=(1, 1, 256, 256), dtype=tf.float32, name=None)\n",
            "  134178196856400: TensorSpec(shape=(256,), dtype=tf.float32, name=None)\n",
            "  134178196856976: TensorSpec(shape=(1, 1, 256, 128), dtype=tf.float32, name=None)\n",
            "  134178196857552: TensorSpec(shape=(128,), dtype=tf.float32, name=None)\n",
            "  134178196858128: TensorSpec(shape=(3, 3, 128, 128), dtype=tf.float32, name=None)\n",
            "  134178196858512: TensorSpec(shape=(128,), dtype=tf.float32, name=None)\n",
            "  134178196858320: TensorSpec(shape=(3, 3, 128, 128), dtype=tf.float32, name=None)\n",
            "  134178196858704: TensorSpec(shape=(128,), dtype=tf.float32, name=None)\n",
            "  134178196858896: TensorSpec(shape=(3, 3, 128, 128), dtype=tf.float32, name=None)\n",
            "  134178196859280: TensorSpec(shape=(128,), dtype=tf.float32, name=None)\n",
            "  134178196857168: TensorSpec(shape=(3, 3, 128, 128), dtype=tf.float32, name=None)\n",
            "  134178196857936: TensorSpec(shape=(1, 1, 256, 128), dtype=tf.float32, name=None)\n",
            "  134178196859472: TensorSpec(shape=(128,), dtype=tf.float32, name=None)\n",
            "  134178196857744: TensorSpec(shape=(128,), dtype=tf.float32, name=None)\n",
            "  134178196860048: TensorSpec(shape=(1, 1, 256, 256), dtype=tf.float32, name=None)\n",
            "  134178196859088: TensorSpec(shape=(256,), dtype=tf.float32, name=None)\n",
            "  134178196854096: TensorSpec(shape=(4,), dtype=tf.int64, name=None)\n",
            "  134178196852560: TensorSpec(shape=(4,), dtype=tf.int64, name=None)\n",
            "  134178196860240: TensorSpec(shape=(1, 1, 1024, 512), dtype=tf.float32, name=None)\n",
            "  134178196860432: TensorSpec(shape=(512,), dtype=tf.float32, name=None)\n",
            "  134178196860816: TensorSpec(shape=(1, 1, 1024, 256), dtype=tf.float32, name=None)\n",
            "  134178196859664: TensorSpec(shape=(256,), dtype=tf.float32, name=None)\n",
            "  134178196861200: TensorSpec(shape=(4,), dtype=tf.int64, name=None)\n",
            "  134178196861008: TensorSpec(shape=(4,), dtype=tf.int64, name=None)\n",
            "  134178196863120: TensorSpec(shape=(1, 1, 128, 64), dtype=tf.float32, name=None)\n",
            "  134178196863312: TensorSpec(shape=(64,), dtype=tf.float32, name=None)\n",
            "  134178196862544: TensorSpec(shape=(3, 3, 64, 64), dtype=tf.float32, name=None)\n",
            "  134178196863504: TensorSpec(shape=(64,), dtype=tf.float32, name=None)\n",
            "  134178196863696: TensorSpec(shape=(3, 3, 64, 64), dtype=tf.float32, name=None)\n",
            "  134178196863888: TensorSpec(shape=(64,), dtype=tf.float32, name=None)\n",
            "  134178196862736: TensorSpec(shape=(3, 3, 64, 64), dtype=tf.float32, name=None)\n",
            "  134178196864272: TensorSpec(shape=(64,), dtype=tf.float32, name=None)\n",
            "  134178196862160: TensorSpec(shape=(3, 3, 64, 64), dtype=tf.float32, name=None)\n",
            "  134178196859856: TensorSpec(shape=(1, 1, 128, 64), dtype=tf.float32, name=None)\n",
            "  134178196864464: TensorSpec(shape=(64,), dtype=tf.float32, name=None)\n",
            "  134178196860624: TensorSpec(shape=(64,), dtype=tf.float32, name=None)\n",
            "  134178196864080: TensorSpec(shape=(1, 1, 128, 128), dtype=tf.float32, name=None)\n",
            "  134178196864848: TensorSpec(shape=(128,), dtype=tf.float32, name=None)\n",
            "  134178196864656: TensorSpec(shape=(1, 1, 128, 64), dtype=tf.float32, name=None)\n",
            "  134177455341840: TensorSpec(shape=(64,), dtype=tf.float32, name=None)\n",
            "  134177455342416: TensorSpec(shape=(3, 3, 64, 64), dtype=tf.float32, name=None)\n",
            "  134177455342800: TensorSpec(shape=(64,), dtype=tf.float32, name=None)\n",
            "  134177455342608: TensorSpec(shape=(3, 3, 64, 64), dtype=tf.float32, name=None)\n",
            "  134177455342992: TensorSpec(shape=(64,), dtype=tf.float32, name=None)\n",
            "  134177455343184: TensorSpec(shape=(3, 3, 64, 64), dtype=tf.float32, name=None)\n",
            "  134177455343568: TensorSpec(shape=(64,), dtype=tf.float32, name=None)\n",
            "  134177455341648: TensorSpec(shape=(3, 3, 64, 64), dtype=tf.float32, name=None)\n",
            "  134177455342224: TensorSpec(shape=(1, 1, 128, 64), dtype=tf.float32, name=None)\n",
            "  134177455343760: TensorSpec(shape=(64,), dtype=tf.float32, name=None)\n",
            "  134177455342032: TensorSpec(shape=(64,), dtype=tf.float32, name=None)\n",
            "  134177455344336: TensorSpec(shape=(1, 1, 128, 128), dtype=tf.float32, name=None)\n",
            "  134177455343376: TensorSpec(shape=(128,), dtype=tf.float32, name=None)\n",
            "  134178196861392: TensorSpec(shape=(4,), dtype=tf.int64, name=None)\n",
            "  134178196861584: TensorSpec(shape=(4,), dtype=tf.int64, name=None)\n",
            "  134177455344528: TensorSpec(shape=(1, 1, 512, 256), dtype=tf.float32, name=None)\n",
            "  134177455344720: TensorSpec(shape=(256,), dtype=tf.float32, name=None)\n",
            "  134177455344912: TensorSpec(shape=(4, 2), dtype=tf.int32, name=None)\n",
            "  134177455343952: TensorSpec(shape=(3, 3, 256, 256), dtype=tf.float32, name=None)\n",
            "  134177455344144: TensorSpec(shape=(256,), dtype=tf.float32, name=None)\n",
            "  134177455347024: TensorSpec(shape=(1, 1, 768, 512), dtype=tf.float32, name=None)\n",
            "  134177455346448: TensorSpec(shape=(512,), dtype=tf.float32, name=None)\n",
            "  134177455347216: TensorSpec(shape=(4,), dtype=tf.int64, name=None)\n",
            "  134177455347984: TensorSpec(shape=(4,), dtype=tf.int64, name=None)\n",
            "  134177455350288: TensorSpec(shape=(1, 1, 256, 128), dtype=tf.float32, name=None)\n",
            "  134177455348176: TensorSpec(shape=(128,), dtype=tf.float32, name=None)\n",
            "  134177455351056: TensorSpec(shape=(3, 3, 128, 128), dtype=tf.float32, name=None)\n",
            "  134177455349712: TensorSpec(shape=(128,), dtype=tf.float32, name=None)\n",
            "  134177455352016: TensorSpec(shape=(3, 3, 128, 128), dtype=tf.float32, name=None)\n",
            "  134177455351632: TensorSpec(shape=(128,), dtype=tf.float32, name=None)\n",
            "  134177455352208: TensorSpec(shape=(3, 3, 128, 128), dtype=tf.float32, name=None)\n",
            "  134177455349904: TensorSpec(shape=(128,), dtype=tf.float32, name=None)\n",
            "  134177455351440: TensorSpec(shape=(3, 3, 128, 128), dtype=tf.float32, name=None)\n",
            "  134177455348368: TensorSpec(shape=(1, 1, 256, 128), dtype=tf.float32, name=None)\n",
            "  134177455353552: TensorSpec(shape=(128,), dtype=tf.float32, name=None)\n",
            "  134177455349328: TensorSpec(shape=(128,), dtype=tf.float32, name=None)\n",
            "  134177455352784: TensorSpec(shape=(1, 1, 256, 256), dtype=tf.float32, name=None)\n",
            "  134177455352400: TensorSpec(shape=(256,), dtype=tf.float32, name=None)\n",
            "  134177455353936: TensorSpec(shape=(1, 1, 256, 128), dtype=tf.float32, name=None)\n",
            "  134177455351824: TensorSpec(shape=(128,), dtype=tf.float32, name=None)\n",
            "  134177455352592: TensorSpec(shape=(3, 3, 128, 128), dtype=tf.float32, name=None)\n",
            "  134177455354128: TensorSpec(shape=(128,), dtype=tf.float32, name=None)\n",
            "  134177455353360: TensorSpec(shape=(3, 3, 128, 128), dtype=tf.float32, name=None)\n",
            "  134177455354320: TensorSpec(shape=(128,), dtype=tf.float32, name=None)\n",
            "  134177455354512: TensorSpec(shape=(3, 3, 128, 128), dtype=tf.float32, name=None)\n",
            "  134177455354896: TensorSpec(shape=(128,), dtype=tf.float32, name=None)\n",
            "  134177455353744: TensorSpec(shape=(3, 3, 128, 128), dtype=tf.float32, name=None)\n",
            "  134177455353168: TensorSpec(shape=(1, 1, 256, 128), dtype=tf.float32, name=None)\n",
            "  134177455355088: TensorSpec(shape=(128,), dtype=tf.float32, name=None)\n",
            "  134177455352976: TensorSpec(shape=(128,), dtype=tf.float32, name=None)\n",
            "  134177455355664: TensorSpec(shape=(1, 1, 256, 256), dtype=tf.float32, name=None)\n",
            "  134177455354704: TensorSpec(shape=(256,), dtype=tf.float32, name=None)\n",
            "  134177455348560: TensorSpec(shape=(4,), dtype=tf.int64, name=None)\n",
            "  134177455348752: TensorSpec(shape=(4,), dtype=tf.int64, name=None)\n",
            "  134177455355856: TensorSpec(shape=(1, 1, 1024, 512), dtype=tf.float32, name=None)\n",
            "  134177455356048: TensorSpec(shape=(512,), dtype=tf.float32, name=None)\n",
            "  134177455356240: TensorSpec(shape=(4, 2), dtype=tf.int32, name=None)\n",
            "  134177455355280: TensorSpec(shape=(3, 3, 512, 512), dtype=tf.float32, name=None)\n",
            "  134177455355472: TensorSpec(shape=(512,), dtype=tf.float32, name=None)\n",
            "  134177447936464: TensorSpec(shape=(1, 1, 1024, 512), dtype=tf.float32, name=None)\n",
            "  134177447936080: TensorSpec(shape=(512,), dtype=tf.float32, name=None)\n",
            "  134177447936656: TensorSpec(shape=(4,), dtype=tf.int64, name=None)\n",
            "  134177447937424: TensorSpec(shape=(4,), dtype=tf.int64, name=None)\n",
            "  134177447939728: TensorSpec(shape=(1, 1, 256, 128), dtype=tf.float32, name=None)\n",
            "  134177447937616: TensorSpec(shape=(128,), dtype=tf.float32, name=None)\n",
            "  134177447940496: TensorSpec(shape=(3, 3, 128, 128), dtype=tf.float32, name=None)\n",
            "  134177447939152: TensorSpec(shape=(128,), dtype=tf.float32, name=None)\n",
            "  134177447941456: TensorSpec(shape=(3, 3, 128, 128), dtype=tf.float32, name=None)\n",
            "  134177447941072: TensorSpec(shape=(128,), dtype=tf.float32, name=None)\n",
            "  134177447942608: TensorSpec(shape=(3, 3, 128, 128), dtype=tf.float32, name=None)\n",
            "  134177447939344: TensorSpec(shape=(128,), dtype=tf.float32, name=None)\n",
            "  134177447940880: TensorSpec(shape=(3, 3, 128, 128), dtype=tf.float32, name=None)\n",
            "  134177447937808: TensorSpec(shape=(1, 1, 256, 128), dtype=tf.float32, name=None)\n",
            "  134177447942032: TensorSpec(shape=(128,), dtype=tf.float32, name=None)\n",
            "  134177447938768: TensorSpec(shape=(128,), dtype=tf.float32, name=None)\n",
            "  134177447943376: TensorSpec(shape=(1, 1, 256, 256), dtype=tf.float32, name=None)\n",
            "  134177447942224: TensorSpec(shape=(256,), dtype=tf.float32, name=None)\n",
            "  134177447942416: TensorSpec(shape=(1, 1, 256, 128), dtype=tf.float32, name=None)\n",
            "  134177447941840: TensorSpec(shape=(128,), dtype=tf.float32, name=None)\n",
            "  134177447941648: TensorSpec(shape=(3, 3, 128, 128), dtype=tf.float32, name=None)\n",
            "  134177447943568: TensorSpec(shape=(128,), dtype=tf.float32, name=None)\n",
            "  134177447942800: TensorSpec(shape=(3, 3, 128, 128), dtype=tf.float32, name=None)\n",
            "  134177447943760: TensorSpec(shape=(128,), dtype=tf.float32, name=None)\n",
            "  134177447943952: TensorSpec(shape=(3, 3, 128, 128), dtype=tf.float32, name=None)\n",
            "  134177447944336: TensorSpec(shape=(128,), dtype=tf.float32, name=None)\n",
            "  134177447941264: TensorSpec(shape=(3, 3, 128, 128), dtype=tf.float32, name=None)\n",
            "  134177447942992: TensorSpec(shape=(1, 1, 256, 128), dtype=tf.float32, name=None)\n",
            "  134177447944528: TensorSpec(shape=(128,), dtype=tf.float32, name=None)\n",
            "  134177447943184: TensorSpec(shape=(128,), dtype=tf.float32, name=None)\n",
            "  134177447945104: TensorSpec(shape=(1, 1, 256, 256), dtype=tf.float32, name=None)\n",
            "  134177447944144: TensorSpec(shape=(256,), dtype=tf.float32, name=None)\n",
            "  134177447938000: TensorSpec(shape=(4,), dtype=tf.int64, name=None)\n",
            "  134177447938192: TensorSpec(shape=(4,), dtype=tf.int64, name=None)\n",
            "  134177447945296: TensorSpec(shape=(1, 1, 1024, 512), dtype=tf.float32, name=None)\n",
            "  134177447945488: TensorSpec(shape=(512,), dtype=tf.float32, name=None)\n",
            "  134177447944912: TensorSpec(shape=(3, 3, 512, 1), dtype=tf.float32, name=None)\n",
            "  134177455357008: TensorSpec(shape=(3, 3, 512, 1), dtype=tf.float32, name=None)\n",
            "  134177455345680: TensorSpec(shape=(3, 3, 256, 1), dtype=tf.float32, name=None)\n",
            "  134177447946064: TensorSpec(shape=(512,), dtype=tf.float32, name=None)\n",
            "  134177455357200: TensorSpec(shape=(512,), dtype=tf.float32, name=None)\n",
            "  134177455345872: TensorSpec(shape=(256,), dtype=tf.float32, name=None)\n",
            "  134177447946832: TensorSpec(shape=(1, 1, 512, 256), dtype=tf.float32, name=None)\n",
            "  134177455356432: TensorSpec(shape=(1, 1, 512, 256), dtype=tf.float32, name=None)\n",
            "  134177455346640: TensorSpec(shape=(1, 1, 256, 256), dtype=tf.float32, name=None)\n",
            "  134177447945872: TensorSpec(shape=(256,), dtype=tf.float32, name=None)\n",
            "  134177455357776: TensorSpec(shape=(256,), dtype=tf.float32, name=None)\n",
            "  134177455345104: TensorSpec(shape=(256,), dtype=tf.float32, name=None)\n",
            "  134177447946448: TensorSpec(shape=(3, 3, 256, 1), dtype=tf.float32, name=None)\n",
            "  134177447944720: TensorSpec(shape=(3, 3, 512, 64), dtype=tf.float32, name=None)\n",
            "  134177447937040: TensorSpec(shape=(3, 3, 256, 1), dtype=tf.float32, name=None)\n",
            "  134177455356816: TensorSpec(shape=(3, 3, 512, 64), dtype=tf.float32, name=None)\n",
            "  134177455347600: TensorSpec(shape=(3, 3, 256, 1), dtype=tf.float32, name=None)\n",
            "  134177455345488: TensorSpec(shape=(3, 3, 256, 64), dtype=tf.float32, name=None)\n",
            "  134177447947600: TensorSpec(shape=(256,), dtype=tf.float32, name=None)\n",
            "  134177447945680: TensorSpec(shape=(64,), dtype=tf.float32, name=None)\n",
            "  134177447937232: TensorSpec(shape=(256,), dtype=tf.float32, name=None)\n",
            "  134177455356624: TensorSpec(shape=(64,), dtype=tf.float32, name=None)\n",
            "  134177455347792: TensorSpec(shape=(256,), dtype=tf.float32, name=None)\n",
            "  134177455345296: TensorSpec(shape=(64,), dtype=tf.float32, name=None)\n",
            "  134177447947984: TensorSpec(shape=(1, 1, 256, 256), dtype=tf.float32, name=None)\n",
            "  134177447946256: TensorSpec(shape=(3, 3, 64, 64), dtype=tf.float32, name=None)\n",
            "  134177447940304: TensorSpec(shape=(1, 1, 256, 256), dtype=tf.float32, name=None)\n",
            "  134177455357584: TensorSpec(shape=(3, 3, 64, 64), dtype=tf.float32, name=None)\n",
            "  134177455350864: TensorSpec(shape=(1, 1, 256, 256), dtype=tf.float32, name=None)\n",
            "  134177455346256: TensorSpec(shape=(3, 3, 64, 64), dtype=tf.float32, name=None)\n",
            "  134177447947216: TensorSpec(shape=(256,), dtype=tf.float32, name=None)\n",
            "  134177447946640: TensorSpec(shape=(64,), dtype=tf.float32, name=None)\n",
            "  134177447939920: TensorSpec(shape=(256,), dtype=tf.float32, name=None)\n",
            "  134177455357392: TensorSpec(shape=(64,), dtype=tf.float32, name=None)\n",
            "  134177455350480: TensorSpec(shape=(256,), dtype=tf.float32, name=None)\n",
            "  134177455346064: TensorSpec(shape=(64,), dtype=tf.float32, name=None)\n",
            "  134177447948176: TensorSpec(shape=(1, 1, 256, 11), dtype=tf.float32, name=None)\n",
            "  134177447947024: TensorSpec(shape=(1, 1, 64, 64), dtype=tf.float32, name=None)\n",
            "  134177447940688: TensorSpec(shape=(1, 1, 256, 11), dtype=tf.float32, name=None)\n",
            "  134177447936848: TensorSpec(shape=(1, 1, 64, 64), dtype=tf.float32, name=None)\n",
            "  134177455351248: TensorSpec(shape=(1, 1, 256, 11), dtype=tf.float32, name=None)\n",
            "  134177455347408: TensorSpec(shape=(1, 1, 64, 64), dtype=tf.float32, name=None)\n",
            "  134177447947408: TensorSpec(shape=(64,), dtype=tf.float32, name=None)\n",
            "  134177447948368: TensorSpec(shape=(11,), dtype=tf.float32, name=None)\n",
            "  134177447936272: TensorSpec(shape=(64,), dtype=tf.float32, name=None)\n",
            "  134177447940112: TensorSpec(shape=(11,), dtype=tf.float32, name=None)\n",
            "  134177455346832: TensorSpec(shape=(64,), dtype=tf.float32, name=None)\n",
            "  134177455350672: TensorSpec(shape=(11,), dtype=tf.float32, name=None)\n",
            "  134177447948752: TensorSpec(shape=(3,), dtype=tf.int64, name=None)\n",
            "  134177447947792: TensorSpec(shape=(3,), dtype=tf.int64, name=None)\n",
            "  134177447950096: TensorSpec(shape=(1, 1, 16, 1), dtype=tf.float32, name=None)\n",
            "  134177447952016: TensorSpec(shape=(3,), dtype=tf.int64, name=None)\n",
            "  134177447951632: TensorSpec(shape=(3,), dtype=tf.int64, name=None)\n",
            "  134177447952208: TensorSpec(shape=(3,), dtype=tf.int64, name=None)\n",
            "  134177447949328: TensorSpec(shape=(3,), dtype=tf.int64, name=None)\n",
            "  134177447950480: TensorSpec(shape=(1, 2, 2100), dtype=tf.float32, name=None)\n",
            "  134177447950864: TensorSpec(shape=(1, 2, 2100), dtype=tf.float32, name=None)\n",
            "  134177447949136: TensorSpec(shape=(3,), dtype=tf.int64, name=None)\n",
            "  134177447948560: TensorSpec(shape=(3,), dtype=tf.int64, name=None)\n",
            "  134177439253904: TensorSpec(shape=(3,), dtype=tf.int64, name=None)\n",
            "  134177439254288: TensorSpec(shape=(3,), dtype=tf.int64, name=None)\n",
            "  134177439255248: TensorSpec(shape=(3,), dtype=tf.int64, name=None)\n",
            "  134177439253136: TensorSpec(shape=(3,), dtype=tf.int64, name=None)\n",
            "  134177439255824: TensorSpec(shape=(1500, 4), dtype=tf.int64, name=None)\n",
            "  134177439257552: TensorSpec(shape=(2,), dtype=tf.int64, name=None)\n",
            "  134177439256976: TensorSpec(shape=(2,), dtype=tf.int64, name=None)\n",
            "  134177439257936: TensorSpec(shape=(), dtype=tf.int32, name=None)\n",
            "  134177439260240: TensorSpec(shape=(), dtype=tf.int32, name=None)\n",
            "  134177439259664: TensorSpec(shape=(1,), dtype=tf.bool, name=None)\n",
            "  134177439257360: TensorSpec(shape=(1,), dtype=tf.int32, name=None)\n",
            "  134177439261584: TensorSpec(shape=(), dtype=tf.int32, name=None)\n",
            "  134177439261200: TensorSpec(shape=(), dtype=tf.int32, name=None)\n",
            "  134177439257744: TensorSpec(shape=(), dtype=tf.int32, name=None)\n",
            "  134177439259088: TensorSpec(shape=(), dtype=tf.float32, name=None)\n",
            "  134177439260048: TensorSpec(shape=(), dtype=tf.float32, name=None)\n",
            "  134177439254096: TensorSpec(shape=(3,), dtype=tf.int64, name=None)\n",
            "  134177439253712: TensorSpec(shape=(3,), dtype=tf.int64, name=None)\n",
            "  134177439261968: TensorSpec(shape=(2, 2), dtype=tf.int32, name=None)\n",
            "  134177439261008: TensorSpec(shape=(), dtype=tf.int64, name=None)\n",
            "  134177439258512: TensorSpec(shape=(), dtype=tf.int64, name=None)\n",
            "  134177439261776: TensorSpec(shape=(1,), dtype=tf.int64, name=None)\n",
            "  134177439263504: TensorSpec(shape=(1,), dtype=tf.int64, name=None)\n",
            "  134177439262544: TensorSpec(shape=(1,), dtype=tf.int64, name=None)\n",
            "  134177439261392: TensorSpec(shape=(), dtype=tf.int64, name=None)\n",
            "  134177439262928: TensorSpec(shape=(1,), dtype=tf.int64, name=None)\n",
            "  134177439260624: TensorSpec(shape=(1,), dtype=tf.int64, name=None)\n",
            "  134177439263120: TensorSpec(shape=(1,), dtype=tf.int64, name=None)\n",
            "  134177439266192: TensorSpec(shape=(1, 300, 6), dtype=tf.float32, name=None)\n",
            "  134177439265808: TensorSpec(shape=(1, 1), dtype=tf.int64, name=None)\n",
            "\n",
            "\n",
            "\u001b[34m\u001b[1mTensorFlow SavedModel:\u001b[0m export success ✅ 1290.3s, saved as '/content/drive/MyDrive/model/聚商荟/jushanghui_yolo11l_360x360_v1_saved_model' (317.2 MB)\n",
            "\n",
            "Export complete (1290.8s)\n",
            "Results saved to \u001b[1m/content/drive/MyDrive/model/聚商荟\u001b[0m\n",
            "Predict:         yolo predict task=detect model=/content/drive/MyDrive/model/聚商荟/jushanghui_yolo11l_360x360_v1_saved_model imgsz=320 int8 \n",
            "Validate:        yolo val task=detect model=/content/drive/MyDrive/model/聚商荟/jushanghui_yolo11l_360x360_v1_saved_model imgsz=320 data=/home/featurize/datasets/num_1/detect.yaml int8 \n",
            "Visualize:       https://netron.app\n"
          ]
        },
        {
          "output_type": "execute_result",
          "data": {
            "text/plain": [
              "'/content/drive/MyDrive/model/聚商荟/jushanghui_yolo11l_360x360_v1_saved_model'"
            ],
            "application/vnd.google.colaboratory.intrinsic+json": {
              "type": "string"
            }
          },
          "metadata": {},
          "execution_count": 10
        }
      ]
    },
    {
      "cell_type": "markdown",
      "source": [
        "验证"
      ],
      "metadata": {
        "id": "612KLh-PhBdN"
      }
    },
    {
      "cell_type": "code",
      "source": [
        "tf_savedmodel_model = YOLO(\"/content/drive/MyDrive/model/聚商荟/jushanghui_yolo11l_360x360_v1_saved_model\")\n",
        "\n",
        "results = tf_savedmodel_model(\"https://ultralytics.com/images/bus.jpg\")"
      ],
      "metadata": {
        "colab": {
          "base_uri": "https://localhost:8080/"
        },
        "id": "AWi6zcMxhIMD",
        "outputId": "21dfbd9a-d91a-491a-b747-dbe51158c793"
      },
      "execution_count": null,
      "outputs": [
        {
          "output_type": "stream",
          "name": "stdout",
          "text": [
            "WARNING ⚠️ Unable to automatically guess model task, assuming 'task=detect'. Explicitly define task for your model, i.e. 'task=detect', 'segment', 'classify','pose' or 'obb'.\n",
            "Loading /content/drive/MyDrive/model/聚商荟/jushanghui_yolo11l_360x360_v1_saved_model for TensorFlow SavedModel inference...\n",
            "\n",
            "Found https://ultralytics.com/images/bus.jpg locally at bus.jpg\n",
            "image 1/1 /content/bus.jpg: 320x320 3 1s, 1 3, 1 6, 1 8, 953.7ms\n",
            "Speed: 1.6ms preprocess, 953.7ms inference, 0.4ms postprocess per image at shape (1, 3, 320, 320)\n"
          ]
        }
      ]
    },
    {
      "cell_type": "markdown",
      "source": [
        "# Step.N 模型部署"
      ],
      "metadata": {
        "id": "xJIJpactt9QB"
      }
    },
    {
      "cell_type": "markdown",
      "source": [
        "## Step.N.1 容器启动"
      ],
      "metadata": {
        "id": "-vHxZJUTuXFM"
      }
    },
    {
      "cell_type": "code",
      "source": [
        "#!/usr/bin/env bash\n",
        "\n",
        "docker run -it -d \\\n",
        "        -p 8030:8500 \\\n",
        "        -p 8011:8501 \\\n",
        "        --restart=always \\\n",
        "        --gpus=all   \\\n",
        "        --cpus=32 \\\n",
        "        --memory=32g \\\n",
        "        --name=model_jushanghui_int8 \\\n",
        "        -v /home/haoming/models/jushanghui_yolo11l_360x360_v1_saved_model:/models/model_jushanghui_int8 \\\n",
        "        -e MODEL_NAME=model_jushanghui_int8    \\\n",
        "        -t tensorflow/serving:latest-gpu \\\n",
        "        --enable_batching=true\n",
        "\n",
        "\n",
        "docker run -it -d \\\n",
        "        -p 8034:8500 \\\n",
        "        -p 8015:8501 \\\n",
        "        --restart=always \\\n",
        "        --gpus=all   \\\n",
        "        --cpus=32 \\\n",
        "        --memory=32g \\\n",
        "        --name=model_boyou_int8 \\\n",
        "        -v /home/haoming/models/model_boyou_int8:/models/model_boyou_int8 \\\n",
        "        -e MODEL_NAME=model_boyou_int8    \\\n",
        "        -t tensorflow/serving:latest-gpu \\\n",
        "        --enable_batching=true"
      ],
      "metadata": {
        "id": "w5C7ZG90uWXa"
      },
      "execution_count": null,
      "outputs": []
    }
  ],
  "metadata": {
    "accelerator": "GPU",
    "colab": {
      "name": "Ultralytics HUB",
      "provenance": [],
      "toc_visible": true,
      "gpuType": "T4",
      "include_colab_link": true
    },
    "kernelspec": {
      "display_name": "Python 3",
      "name": "python3"
    },
    "language_info": {
      "name": "python"
    }
  },
  "nbformat": 4,
  "nbformat_minor": 0
}